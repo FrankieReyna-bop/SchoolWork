{
 "cells": [
  {
   "cell_type": "code",
   "execution_count": 2,
   "id": "505cb98c",
   "metadata": {},
   "outputs": [],
   "source": [
    "from scipy import signal\n",
    "import numpy as np\n",
    "import matplotlib.pyplot as plt\n",
    "import matplotlib.patches as patches\n",
    "import control"
   ]
  },
  {
   "cell_type": "code",
   "execution_count": null,
   "id": "217e0e4d",
   "metadata": {},
   "outputs": [],
   "source": [
    "sys1 = signal.TransferFunction([3.75e7], [1, 2650, 3.75e5])\n",
    "sys2 = signal.TransferFunction([9.9], [1/(3.7875e7), 2650/(3.7875e7), 1])\n",
    "w, mag, phase = signal.bode(sys1)\n",
    "w, mag, phase = signal.bode(sys)\n"
   ]
  }
 ],
 "metadata": {
  "kernelspec": {
   "display_name": "EE447",
   "language": "python",
   "name": "python3"
  },
  "language_info": {
   "codemirror_mode": {
    "name": "ipython",
    "version": 3
   },
   "file_extension": ".py",
   "mimetype": "text/x-python",
   "name": "python",
   "nbconvert_exporter": "python",
   "pygments_lexer": "ipython3",
   "version": "3.13.2"
  }
 },
 "nbformat": 4,
 "nbformat_minor": 5
}
